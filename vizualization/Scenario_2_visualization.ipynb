{
 "cells": [
  {
   "cell_type": "markdown",
   "metadata": {},
   "source": [
    "# AFV Missing Vessel Identifiers\n",
    "\n",
    "The following Jupyter notebook visualizes the AIS data between 2009 and 2017. \n",
    "- Establish s3 bucket connection to retrieve processed AIS data for 2015, 2016, 2017\n",
    "- Load parquet files, clean up column names, and prepare data for use in visualizations\n",
    "- Create visualizations"
   ]
  },
  {
   "cell_type": "markdown",
   "metadata": {},
   "source": [
    "# Missing metadata from AIS Data\n",
    "\n",
    "Most of the AIS data contain vessel metadata; however, there are a few records missing vessel metadata between the years of 2015-2017. Roughly 1.7% (N=159,898) of the data points and 9% of the unique vessels between 2015 and 2017 are missing vessel metadata (VesselName, IMO, CallSign, VesselType, Length, Width, Draft, Cargo). The visualizations below are meant to aide the analyst in exploring the data that is missing vessel metadata. "
   ]
  },
  {
   "cell_type": "code",
   "execution_count": 1,
   "metadata": {},
   "outputs": [
    {
     "name": "stderr",
     "output_type": "stream",
     "text": [
      "/usr/local/lib/python3.7/site-packages/geopandas/_compat.py:88: UserWarning: The Shapely GEOS version (3.8.0-CAPI-1.13.1 ) is incompatible with the GEOS version PyGEOS was compiled with (3.8.1-CAPI-1.13.3). Conversions between both will be slow.\n",
      "  shapely_geos_version, geos_capi_version_string\n"
     ]
    }
   ],
   "source": [
    "import boto3\n",
    "from ipyleaflet import Map, basemaps, basemap_to_tiles\n",
    "from ipyleaflet import CircleMarker, Heatmap\n",
    "from ipyleaflet import Marker, MarkerCluster\n",
    "import ipywidgets as widgets\n",
    "from ipywidgets import Dropdown, HTML, Layout, VBox\n",
    "import io\n",
    "import json\n",
    "import numpy as np\n",
    "import pandas as pd\n",
    "import plotly.graph_objects as go\n",
    "from random import uniform\n",
    "\n",
    "# local imports\n",
    "import helpers\n"
   ]
  },
  {
   "cell_type": "code",
   "execution_count": 2,
   "metadata": {},
   "outputs": [
    {
     "data": {
      "text/html": [
       "<style>\n",
       ".jupyter-widgets.widget-tab > .p-TabBar .p-TabBar-tab {\n",
       "    flex: 0 1 300px\n",
       "}\n",
       "\n",
       ".lbl_bg {\n",
       "    width: auto;\n",
       "    background-color: #F0F0F0;\n",
       "    border-radius: 4px;\n",
       "}\n",
       "</style>\n"
      ],
      "text/plain": [
       "<IPython.core.display.HTML object>"
      ]
     },
     "metadata": {},
     "output_type": "display_data"
    }
   ],
   "source": [
    "%%html\n",
    "<style>\n",
    ".jupyter-widgets.widget-tab > .p-TabBar .p-TabBar-tab {\n",
    "    flex: 0 1 300px\n",
    "}\n",
    "\n",
    ".lbl_bg {\n",
    "    width: auto;\n",
    "    background-color: #F0F0F0;\n",
    "    border-radius: 4px;\n",
    "}\n",
    "</style>"
   ]
  },
  {
   "cell_type": "markdown",
   "metadata": {},
   "source": [
    "# Connect to AWS"
   ]
  },
  {
   "cell_type": "code",
   "execution_count": 3,
   "metadata": {},
   "outputs": [],
   "source": [
    "with open(\"../creds/aws_creds.json\") as f:\n",
    "    aws_creds = json.loads(f.read())\n",
    "    \n",
    "s3_resource = boto3.resource('s3',aws_access_key_id=aws_creds[\"access_key_id\"],\n",
    "                            aws_secret_access_key=aws_creds[\"access_key_secret\"])\n",
    "client = boto3.client('s3', aws_access_key_id=aws_creds[\"access_key_id\"],\n",
    "                            aws_secret_access_key=aws_creds[\"access_key_secret\"])\n"
   ]
  },
  {
   "cell_type": "markdown",
   "metadata": {},
   "source": [
    "# Process AIS data for all years to produce data for visualizations"
   ]
  },
  {
   "cell_type": "code",
   "execution_count": 4,
   "metadata": {},
   "outputs": [],
   "source": [
    "process = False # change to True if you need to process the data; this takes a while to run\n",
    "if process:\n",
    "    # process yearly AIS data for use in visualizations\n",
    "    helpers.concat_ais_data(s3_resource, client)\n",
    "\n",
    "# load processed AIS data used for visualizations\n",
    "bucket = 'afv-scenario' \n",
    "\n",
    "long_missing_obj = client.get_object(Bucket=bucket, Key='analytics-products/ais_missing_long.csv')\n",
    "long_missing_df = pd.read_csv(io.BytesIO(long_missing_obj['Body'].read()))\n",
    "\n",
    "mmsi_count_obj = client.get_object(Bucket=bucket, Key='analytics-products/ais_mmsi_count.csv')\n",
    "mmsi_count_df = pd.read_csv(io.BytesIO(mmsi_count_obj['Body'].read()))\n",
    "\n",
    "missing_obj = client.get_object(Bucket=bucket, Key='analytics-products/ais_missing.csv')\n",
    "missing_df = pd.read_csv(io.BytesIO(missing_obj['Body'].read()))\n",
    "\n",
    "hour_obj = client.get_object(Bucket=bucket, Key='analytics-products/ais_hour.csv')\n",
    "hour_df = pd.read_csv(io.BytesIO(hour_obj['Body'].read()))\n",
    "    \n",
    "    "
   ]
  },
  {
   "cell_type": "markdown",
   "metadata": {},
   "source": [
    "# Visualizations of AIS data for a specific year"
   ]
  },
  {
   "cell_type": "code",
   "execution_count": 5,
   "metadata": {
    "scrolled": false
   },
   "outputs": [
    {
     "data": {
      "application/vnd.jupyter.widget-view+json": {
       "model_id": "be72ebd91f2f4a62a3c2276c17c3bc22",
       "version_major": 2,
       "version_minor": 0
      },
      "text/plain": [
       "Tab(children=(VBox(children=(Dropdown(description='Select a year:', options=(2009, 2010, 2011, 2012, 2013, 201…"
      ]
     },
     "metadata": {},
     "output_type": "display_data"
    }
   ],
   "source": [
    "\n",
    "year = widgets.Dropdown(\n",
    "    options=[2009, 2010, 2011, 2012, 2013, 2014, 2015, 2016, 2017],\n",
    "    value=2009,\n",
    "    description='Select a year:',\n",
    "    disabled=False,\n",
    ")\n",
    "\n",
    "g1 = go.FigureWidget()\n",
    "g1.add_histogram()\n",
    "g1.data[0].x = mmsi_count_df.Count[(mmsi_count_df.Missing == 0) & (mmsi_count_df.Year == year.value)]\n",
    "g1.layout.title = 'Log-transformed histogram of complete vessel metadata counts by MMSI'\n",
    "g1.layout.xaxis.title = 'Log-transformed Count'\n",
    "g1.layout.yaxis.title = 'Bin Total'\n",
    "\n",
    "g2 = go.FigureWidget()\n",
    "g2.add_histogram()\n",
    "g2.data[0].x = mmsi_count_df.Count[(mmsi_count_df.Missing == 1) & (mmsi_count_df.Year == year.value)]\n",
    "g2.layout.title = 'Log-transformed histogram of incomplete vessel metadata counts by MMSI'\n",
    "g2.layout.xaxis.title = 'Log-transformed Count'\n",
    "g2.layout.yaxis.title = 'Bin Total'\n",
    "\n",
    "if len(mmsi_count_df.Count[(mmsi_count_df.Missing == 1) & (mmsi_count_df.Year == year.value)]) == 0:\n",
    "    g2.add_annotation(x=1, y=2,\n",
    "        text=\"There are no data points missing vessel metadata.\",\n",
    "        showarrow=False,\n",
    "        yshift=10\n",
    "    )\n",
    "    g2.data[0].x = []\n",
    "else:\n",
    "    g2.add_annotation(x=1, y=2,\n",
    "        text=\"\",\n",
    "        showarrow=False,\n",
    "        yshift=10\n",
    "    )\n",
    "\n",
    "g3 = go.FigureWidget()\n",
    "g3.add_bar()\n",
    "g3.data[0].y = missing_df.Missing[(missing_df.Year == year.value)]\n",
    "g3.layout.title = 'Frequency of Missing Vessel Metadata Fields by Date'\n",
    "g3.layout.xaxis.title = 'Date'\n",
    "g3.layout.yaxis.title = 'Count'\n",
    "g3.add_class('lbl_bg')\n",
    "\n",
    "if len(missing_df.Missing[(missing_df.Year == year.value) & (missing_df.Missing > 0)]) == 0:\n",
    "    g3.add_annotation(x=1, y=2,\n",
    "        text=\"There are no data points missing vessel metadata.\",\n",
    "        showarrow=False,\n",
    "        yshift=10\n",
    "    )\n",
    "    g3.data[0].y = []\n",
    "else:\n",
    "    g3.add_annotation(x=1, y=2,\n",
    "        text=\"\",\n",
    "        showarrow=False,\n",
    "        yshift=10\n",
    "    )\n",
    "    \n",
    "g4 = go.FigureWidget()\n",
    "g4.add_scatter()\n",
    "g4.data[0].x = hour_df.Time[(hour_df.Year == year.value)]\n",
    "g4.data[0].y = hour_df.Count[(hour_df.Year == year.value)]\n",
    "g4.layout.title = 'Amount of reported vessel data every 60 minutes (green line is 2 SD below mean)'\n",
    "g4.layout.xaxis.title = 'Time'\n",
    "g4.layout.yaxis.title = 'Count'\n",
    "\n",
    "g4.add_shape(type=\"line\",\n",
    "    x0=hour_df.Time[(hour_df.Year == year.value)].min(), \n",
    "    y0=hour_df.Count[(hour_df.Year == year.value)].mean() - 2*hour_df.Count[(hour_df.Year == year.value)].std(), \n",
    "    x1=hour_df.Time[(hour_df.Year == year.value)].max(), \n",
    "    y1=hour_df.Count[(hour_df.Year == year.value)].mean() - 2*hour_df.Count[(hour_df.Year == year.value)].std(),\n",
    "    line=dict(\n",
    "        color=\"LightSeaGreen\",\n",
    "        width=4,\n",
    "        dash=\"dashdot\",\n",
    "    )\n",
    ")\n",
    "\n",
    "\n",
    "def validate():\n",
    "    if year.value in range(2009, 2018):\n",
    "        return True\n",
    "    else:\n",
    "        return False\n",
    "\n",
    "\n",
    "def response(change):\n",
    "    if validate():\n",
    "        \n",
    "        with g1.batch_update():\n",
    "            g1.data[0].x = mmsi_count_df.Count[(mmsi_count_df.Missing == 0) & (mmsi_count_df.Year == year.value)]\n",
    "        with g2.batch_update():\n",
    "            if len(mmsi_count_df.Count[(mmsi_count_df.Missing == 1) & (mmsi_count_df.Year == year.value)]) == 0:\n",
    "                g2.layout.annotations[0].text = \"There are no data points missing vessel metadata.\"\n",
    "                g2.data[0].x = []\n",
    "            else:\n",
    "                g2.layout.annotations[0].text = \"\"\n",
    "                g2.data[0].x = mmsi_count_df.Count[(mmsi_count_df.Missing == 1) & (mmsi_count_df.Year == year.value)]\n",
    "        with g3.batch_update():            \n",
    "            if len(missing_df.Missing[(missing_df.Year == year.value) & (missing_df.Missing > 0)]) == 0:\n",
    "                g3.layout.annotations[0].text = \"There are no data points missing vessel metadata.\"\n",
    "                g3.data[0].y = []\n",
    "            else:\n",
    "                g3.layout.annotations[0].text = \"\"\n",
    "                g3.data[0].y = missing_df.Missing[(missing_df.Year == year.value)]            \n",
    "        with g4.batch_update():\n",
    "            g4.data[0].x = hour_df.Time[(hour_df.Year == year.value)]\n",
    "            g4.data[0].y = hour_df.Count[(hour_df.Year == year.value)]\n",
    "            g4.layout.shapes[0].x0 = hour_df.Time[(hour_df.Year == year.value)].min()\n",
    "            g4.layout.shapes[0].x1 = hour_df.Time[(hour_df.Year == year.value)].max()\n",
    "            g4.layout.shapes[0].y0 = hour_df.Count[(hour_df.Year == year.value)].mean() - 2*hour_df.Count[(hour_df.Year == year.value)].std()\n",
    "            g4.layout.shapes[0].y1 = hour_df.Count[(hour_df.Year == year.value)].mean() - 2*hour_df.Count[(hour_df.Year == year.value)].std()\n",
    "\n",
    "            \n",
    "year.observe(response, names=\"value\")\n",
    "\n",
    "# Tab Specs\n",
    "titles = ['Histogram of AIS vessel data', \n",
    "          'Incomplete AIS data by date', \n",
    "          'AIS data by hour']\n",
    "children = [widgets.VBox([year, g1, g2]).add_class('lbl_bg'), \n",
    "            widgets.VBox([year, g3]).add_class('lbl_bg'),\n",
    "            widgets.VBox([year, g4]).add_class('lbl_bg')]\n",
    "\n",
    "# Initialize visualization\n",
    "viz = widgets.Tab()\n",
    "\n",
    "# Set Tab Specs\n",
    "viz.children = children\n",
    "for i in range(0, 3):\n",
    "    viz.set_title(i, titles[i])\n",
    "\n",
    "viz"
   ]
  },
  {
   "cell_type": "markdown",
   "metadata": {},
   "source": [
    "The visualization in the third tab above (AIS data by hour) is meant to help users identify potential data collection issues or gaps related to a lack of satellite coverage or operational issues regarding one or more satellites. The green line, which is two standard deviations below the mean for the series of data for that year, is meant to provide a quick guide for the user so that she/he can focus on the gaps in data collection."
   ]
  },
  {
   "cell_type": "markdown",
   "metadata": {},
   "source": [
    "# When and where do vessels report with missing metadata?"
   ]
  },
  {
   "cell_type": "code",
   "execution_count": 6,
   "metadata": {
    "scrolled": false
   },
   "outputs": [
    {
     "data": {
      "application/vnd.jupyter.widget-view+json": {
       "model_id": "23bbb25a09114765a71cda574106f081",
       "version_major": 2,
       "version_minor": 0
      },
      "text/plain": [
       "VBox(children=(HTML(value='<h2> <center> Map of Vessels with Missing Metadata</h2>', layout=Layout(height='aut…"
      ]
     },
     "metadata": {},
     "output_type": "display_data"
    }
   ],
   "source": [
    "\n",
    "def create_circle_marker(row):\n",
    "    # Vessel Marker Creation\n",
    "    circle_marker = CircleMarker()\n",
    "    circle_marker.location = (row.xcoord, row.ycoord)\n",
    "    circle_marker.radius = 5\n",
    "    circle_marker.weight = 1\n",
    "    circle_marker.color = \"black\"\n",
    "    circle_marker.fill_color = \"black\"\n",
    "    \n",
    "    # Popup creation\n",
    "    message = HTML()\n",
    "    message.value = \"<b>Time: </b>\" + str(row.Time) + \"<br>\" + \\\n",
    "                     \"<b>Vessel MMSI: </b>\" + str(row.Vessel_MMSI)\n",
    "\n",
    "    circle_marker.popup = message\n",
    "    \n",
    "    return circle_marker\n",
    "\n",
    "\n",
    "def handle_vessel_select(change):\n",
    "    cur_df = long_missing_df[long_missing_df['Vessel_MMSI'] == int(vessel_selector.value)]\n",
    "    \n",
    "    m.clear_layers()\n",
    "    m.add_layer(basemap_layer)\n",
    "    \n",
    "    vessel_markers = []\n",
    "    for col, row in cur_df.iterrows():\n",
    "        vessel_markers.append(create_circle_marker(row))\n",
    "        \n",
    "    marker_cluster = MarkerCluster(markers=vessel_markers)\n",
    "    m.add_layer(marker_cluster)\n",
    "    \n",
    "    m.center = (cur_df.xcoord.median(), cur_df.ycoord.median())\n",
    "    m.zoom = 2.5\n",
    "    \n",
    "\n",
    "vessels = [str(x) for x in long_missing_df['Vessel_MMSI'].unique()]\n",
    "vessels.sort()\n",
    "\n",
    "# Map elements\n",
    "header = HTML(\"<h2> <center> Map of Vessels with Missing Metadata</h2>\", layout=Layout(height='auto'))\n",
    "vessel_selector_label = HTML(value=\"<b> Select the Vessel MMSI: </b>\")\n",
    "vessel_selector = Dropdown(options = vessels, layout=Layout(width='auto'))\n",
    "basemap_layer = basemap_to_tiles(basemaps.OpenStreetMap.Mapnik)\n",
    "# Once a dropdown option is selected, change the data on the map\n",
    "vessel_selector.observe(handle_vessel_select, names='value')\n",
    "\n",
    "# Create starting map with all layers\n",
    "m = Map(center=(long_missing_df.xcoord.median(), long_missing_df.ycoord.median()), zoom=2)\n",
    "m.clear_layers()\n",
    "m.add_layer(basemap_layer)\n",
    "\n",
    "widgets.VBox([header, vessel_selector_label, vessel_selector, m]).add_class('lbl_bg')\n"
   ]
  },
  {
   "cell_type": "code",
   "execution_count": 7,
   "metadata": {},
   "outputs": [
    {
     "data": {
      "application/vnd.jupyter.widget-view+json": {
       "model_id": "aa6f33ff8b2d41359e066bdc2ae2acdf",
       "version_major": 2,
       "version_minor": 0
      },
      "text/plain": [
       "VBox(children=(HTML(value='<h2> <center> Heatmap of Vessels with Missing Metadata</h2>', layout=Layout(height=…"
      ]
     },
     "metadata": {},
     "output_type": "display_data"
    }
   ],
   "source": [
    "# Heatmap\n",
    "\n",
    "heatmap_year = widgets.Dropdown(\n",
    "    options=[2015, 2016, 2017],\n",
    "    value=2015,\n",
    "    description='Select a year:',\n",
    "    disabled=False,\n",
    ")\n",
    "\n",
    "def heatmap_response(change):\n",
    "        \n",
    "    m_heatmap.clear_layers()\n",
    "    m_heatmap.add_layer(basemap_layer)\n",
    "    heatmap_vessel_markers = []\n",
    "    for col, row in long_missing_df[long_missing_df.Year == heatmap_year.value].iterrows():\n",
    "        heatmap_vessel_markers.append([row.xcoord, row.ycoord, uniform(0,10)])\n",
    "\n",
    "    heatmap = Heatmap(\n",
    "        locations=heatmap_vessel_markers,\n",
    "        radius=20\n",
    "    )\n",
    "    m_heatmap.add_layer(heatmap)\n",
    "    m_heatmap.center = (long_missing_df.xcoord[long_missing_df.Year == heatmap_year.value].median(), \n",
    "                        long_missing_df.ycoord[long_missing_df.Year == heatmap_year.value].median()\n",
    "                       )\n",
    "    m_heatmap.zoom = 5\n",
    "\n",
    "            \n",
    "m_heatmap = Map(center=(long_missing_df.xcoord[long_missing_df.Year == heatmap_year.value].median(), \n",
    "                        long_missing_df.ycoord[long_missing_df.Year == heatmap_year.value].median()\n",
    "                       ), zoom=5)\n",
    "m_heatmap.clear_layers()\n",
    "m_heatmap.add_layer(basemap_layer)\n",
    "\n",
    "heatmap_vessel_markers = []\n",
    "for col, row in long_missing_df[long_missing_df.Year == heatmap_year.value].iterrows():\n",
    "    heatmap_vessel_markers.append([row.xcoord, row.ycoord, uniform(0,10)])\n",
    "\n",
    "heatmap = Heatmap(\n",
    "    locations=heatmap_vessel_markers,\n",
    "    radius=20\n",
    ")\n",
    "m_heatmap.add_layer(heatmap)\n",
    "\n",
    "heatmap_year.observe(heatmap_response, names=\"value\")\n",
    "header_heatmap = HTML(\"<h2> <center> Heatmap of Vessels with Missing Metadata</h2>\", layout=Layout(height='auto'))\n",
    "widgets.VBox([header_heatmap, heatmap_year, m_heatmap]).add_class('lbl_bg')\n"
   ]
  },
  {
   "cell_type": "code",
   "execution_count": null,
   "metadata": {},
   "outputs": [],
   "source": []
  }
 ],
 "metadata": {
  "kernelspec": {
   "display_name": "Python 3",
   "language": "python",
   "name": "python3"
  },
  "language_info": {
   "codemirror_mode": {
    "name": "ipython",
    "version": 3
   },
   "file_extension": ".py",
   "mimetype": "text/x-python",
   "name": "python",
   "nbconvert_exporter": "python",
   "pygments_lexer": "ipython3",
   "version": "3.7.9"
  }
 },
 "nbformat": 4,
 "nbformat_minor": 4
}
